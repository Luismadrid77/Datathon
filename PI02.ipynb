{
 "cells": [
  {
   "attachments": {},
   "cell_type": "markdown",
   "metadata": {},
   "source": [
    "# *DataThon*"
   ]
  },
  {
   "cell_type": "code",
   "execution_count": 1,
   "metadata": {},
   "outputs": [],
   "source": [
    "#Importamos las librerias que utiizaremos inicialmente.\n",
    "# A medida que iremos avanzando importaremos mas librerias\n",
    "import pandas as pd\n",
    "import numpy as np\n",
    "import matplotlib.pyplot as plt\n",
    "import seaborn as sns"
   ]
  },
  {
   "attachments": {},
   "cell_type": "markdown",
   "metadata": {},
   "source": [
    "## *Pasaremos a convertir los CSV a DataFrame para iniciar el procesamiento de los datos*\n",
    "\n",
    "*Buscaremos valores null y caulquier otra impureza que tengan nuestros datos*"
   ]
  },
  {
   "attachments": {},
   "cell_type": "markdown",
   "metadata": {},
   "source": [
    "# *EDA (Analisis Exploratorio de Datos)*"
   ]
  },
  {
   "cell_type": "code",
   "execution_count": 2,
   "metadata": {},
   "outputs": [
    {
     "name": "stdout",
     "output_type": "stream",
     "text": [
      "<class 'pandas.core.frame.DataFrame'>\n",
      "RangeIndex: 410000 entries, 0 to 409999\n",
      "Data columns (total 15 columns):\n",
      " #   Column                             Non-Null Count   Dtype  \n",
      "---  ------                             --------------   -----  \n",
      " 0   Available Extra Rooms in Hospital  410000 non-null  int64  \n",
      " 1   Department                         410000 non-null  object \n",
      " 2   Ward_Facility_Code                 410000 non-null  object \n",
      " 3   doctor_name                        410000 non-null  object \n",
      " 4   staff_available                    410000 non-null  int64  \n",
      " 5   patientid                          410000 non-null  int64  \n",
      " 6   Age                                410000 non-null  object \n",
      " 7   gender                             410000 non-null  object \n",
      " 8   Type of Admission                  410000 non-null  object \n",
      " 9   Severity of Illness                410000 non-null  object \n",
      " 10  health_conditions                  410000 non-null  object \n",
      " 11  Visitors with Patient              410000 non-null  int64  \n",
      " 12  Insurance                          410000 non-null  object \n",
      " 13  Admission_Deposit                  410000 non-null  float64\n",
      " 14  Stay (in days)                     410000 non-null  int64  \n",
      "dtypes: float64(1), int64(5), object(9)\n",
      "memory usage: 46.9+ MB\n"
     ]
    }
   ],
   "source": [
    "df_train = pd.read_csv(r'C:\\Users\\DIEZ\\Desktop\\MySpace\\Practicas\\Datathon-main\\hospitalizaciones_train.csv')\n",
    "df_train.info()"
   ]
  },
  {
   "cell_type": "code",
   "execution_count": 3,
   "metadata": {},
   "outputs": [
    {
     "data": {
      "text/html": [
       "<div>\n",
       "<style scoped>\n",
       "    .dataframe tbody tr th:only-of-type {\n",
       "        vertical-align: middle;\n",
       "    }\n",
       "\n",
       "    .dataframe tbody tr th {\n",
       "        vertical-align: top;\n",
       "    }\n",
       "\n",
       "    .dataframe thead th {\n",
       "        text-align: right;\n",
       "    }\n",
       "</style>\n",
       "<table border=\"1\" class=\"dataframe\">\n",
       "  <thead>\n",
       "    <tr style=\"text-align: right;\">\n",
       "      <th></th>\n",
       "      <th>Available Extra Rooms in Hospital</th>\n",
       "      <th>Department</th>\n",
       "      <th>Ward_Facility_Code</th>\n",
       "      <th>doctor_name</th>\n",
       "      <th>staff_available</th>\n",
       "      <th>patientid</th>\n",
       "      <th>Age</th>\n",
       "      <th>gender</th>\n",
       "      <th>Type of Admission</th>\n",
       "      <th>Severity of Illness</th>\n",
       "      <th>health_conditions</th>\n",
       "      <th>Visitors with Patient</th>\n",
       "      <th>Insurance</th>\n",
       "      <th>Admission_Deposit</th>\n",
       "      <th>Stay (in days)</th>\n",
       "    </tr>\n",
       "  </thead>\n",
       "  <tbody>\n",
       "    <tr>\n",
       "      <th>0</th>\n",
       "      <td>4</td>\n",
       "      <td>gynecology</td>\n",
       "      <td>D</td>\n",
       "      <td>Dr Sophia</td>\n",
       "      <td>0</td>\n",
       "      <td>33070</td>\n",
       "      <td>41-50</td>\n",
       "      <td>Female</td>\n",
       "      <td>Trauma</td>\n",
       "      <td>Extreme</td>\n",
       "      <td>Diabetes</td>\n",
       "      <td>4</td>\n",
       "      <td>Yes</td>\n",
       "      <td>2966.408696</td>\n",
       "      <td>8</td>\n",
       "    </tr>\n",
       "    <tr>\n",
       "      <th>1</th>\n",
       "      <td>4</td>\n",
       "      <td>gynecology</td>\n",
       "      <td>B</td>\n",
       "      <td>Dr Sophia</td>\n",
       "      <td>2</td>\n",
       "      <td>34808</td>\n",
       "      <td>31-40</td>\n",
       "      <td>Female</td>\n",
       "      <td>Trauma</td>\n",
       "      <td>Minor</td>\n",
       "      <td>Heart disease</td>\n",
       "      <td>2</td>\n",
       "      <td>No</td>\n",
       "      <td>3554.835677</td>\n",
       "      <td>9</td>\n",
       "    </tr>\n",
       "    <tr>\n",
       "      <th>2</th>\n",
       "      <td>2</td>\n",
       "      <td>gynecology</td>\n",
       "      <td>B</td>\n",
       "      <td>Dr Sophia</td>\n",
       "      <td>8</td>\n",
       "      <td>44577</td>\n",
       "      <td>21-30</td>\n",
       "      <td>Female</td>\n",
       "      <td>Trauma</td>\n",
       "      <td>Extreme</td>\n",
       "      <td>Diabetes</td>\n",
       "      <td>2</td>\n",
       "      <td>Yes</td>\n",
       "      <td>5624.733654</td>\n",
       "      <td>7</td>\n",
       "    </tr>\n",
       "    <tr>\n",
       "      <th>3</th>\n",
       "      <td>4</td>\n",
       "      <td>gynecology</td>\n",
       "      <td>D</td>\n",
       "      <td>Dr Olivia</td>\n",
       "      <td>7</td>\n",
       "      <td>3695</td>\n",
       "      <td>31-40</td>\n",
       "      <td>Female</td>\n",
       "      <td>Urgent</td>\n",
       "      <td>Moderate</td>\n",
       "      <td>None</td>\n",
       "      <td>4</td>\n",
       "      <td>No</td>\n",
       "      <td>4814.149231</td>\n",
       "      <td>8</td>\n",
       "    </tr>\n",
       "    <tr>\n",
       "      <th>4</th>\n",
       "      <td>2</td>\n",
       "      <td>anesthesia</td>\n",
       "      <td>E</td>\n",
       "      <td>Dr Mark</td>\n",
       "      <td>10</td>\n",
       "      <td>108956</td>\n",
       "      <td>71-80</td>\n",
       "      <td>Male</td>\n",
       "      <td>Trauma</td>\n",
       "      <td>Moderate</td>\n",
       "      <td>Diabetes</td>\n",
       "      <td>2</td>\n",
       "      <td>No</td>\n",
       "      <td>5169.269637</td>\n",
       "      <td>34</td>\n",
       "    </tr>\n",
       "  </tbody>\n",
       "</table>\n",
       "</div>"
      ],
      "text/plain": [
       "   Available Extra Rooms in Hospital  Department Ward_Facility_Code  \\\n",
       "0                                  4  gynecology                  D   \n",
       "1                                  4  gynecology                  B   \n",
       "2                                  2  gynecology                  B   \n",
       "3                                  4  gynecology                  D   \n",
       "4                                  2  anesthesia                  E   \n",
       "\n",
       "  doctor_name  staff_available  patientid    Age  gender Type of Admission  \\\n",
       "0   Dr Sophia                0      33070  41-50  Female            Trauma   \n",
       "1   Dr Sophia                2      34808  31-40  Female            Trauma   \n",
       "2   Dr Sophia                8      44577  21-30  Female            Trauma   \n",
       "3   Dr Olivia                7       3695  31-40  Female            Urgent   \n",
       "4     Dr Mark               10     108956  71-80    Male            Trauma   \n",
       "\n",
       "  Severity of Illness health_conditions  Visitors with Patient Insurance  \\\n",
       "0             Extreme          Diabetes                      4       Yes   \n",
       "1               Minor     Heart disease                      2        No   \n",
       "2             Extreme          Diabetes                      2       Yes   \n",
       "3            Moderate              None                      4        No   \n",
       "4            Moderate          Diabetes                      2        No   \n",
       "\n",
       "   Admission_Deposit  Stay (in days)  \n",
       "0        2966.408696               8  \n",
       "1        3554.835677               9  \n",
       "2        5624.733654               7  \n",
       "3        4814.149231               8  \n",
       "4        5169.269637              34  "
      ]
     },
     "execution_count": 3,
     "metadata": {},
     "output_type": "execute_result"
    }
   ],
   "source": [
    "df_train.head()"
   ]
  },
  {
   "cell_type": "code",
   "execution_count": 4,
   "metadata": {},
   "outputs": [
    {
     "name": "stdout",
     "output_type": "stream",
     "text": [
      "<class 'pandas.core.frame.DataFrame'>\n",
      "RangeIndex: 90000 entries, 0 to 89999\n",
      "Data columns (total 14 columns):\n",
      " #   Column                             Non-Null Count  Dtype  \n",
      "---  ------                             --------------  -----  \n",
      " 0   Available Extra Rooms in Hospital  90000 non-null  int64  \n",
      " 1   Department                         90000 non-null  object \n",
      " 2   Ward_Facility_Code                 90000 non-null  object \n",
      " 3   doctor_name                        90000 non-null  object \n",
      " 4   staff_available                    90000 non-null  int64  \n",
      " 5   patientid                          90000 non-null  int64  \n",
      " 6   Age                                90000 non-null  object \n",
      " 7   gender                             90000 non-null  object \n",
      " 8   Type of Admission                  90000 non-null  object \n",
      " 9   Severity of Illness                90000 non-null  object \n",
      " 10  health_conditions                  90000 non-null  object \n",
      " 11  Visitors with Patient              90000 non-null  int64  \n",
      " 12  Insurance                          90000 non-null  object \n",
      " 13  Admission_Deposit                  90000 non-null  float64\n",
      "dtypes: float64(1), int64(4), object(9)\n",
      "memory usage: 9.6+ MB\n"
     ]
    }
   ],
   "source": [
    "df_test = pd.read_csv(r'C:\\Users\\DIEZ\\Desktop\\MySpace\\Practicas\\Datathon-main\\hospitalizaciones_test.csv')\n",
    "df_test.info()"
   ]
  },
  {
   "cell_type": "code",
   "execution_count": 5,
   "metadata": {},
   "outputs": [
    {
     "data": {
      "text/html": [
       "<div>\n",
       "<style scoped>\n",
       "    .dataframe tbody tr th:only-of-type {\n",
       "        vertical-align: middle;\n",
       "    }\n",
       "\n",
       "    .dataframe tbody tr th {\n",
       "        vertical-align: top;\n",
       "    }\n",
       "\n",
       "    .dataframe thead th {\n",
       "        text-align: right;\n",
       "    }\n",
       "</style>\n",
       "<table border=\"1\" class=\"dataframe\">\n",
       "  <thead>\n",
       "    <tr style=\"text-align: right;\">\n",
       "      <th></th>\n",
       "      <th>Available Extra Rooms in Hospital</th>\n",
       "      <th>Department</th>\n",
       "      <th>Ward_Facility_Code</th>\n",
       "      <th>doctor_name</th>\n",
       "      <th>staff_available</th>\n",
       "      <th>patientid</th>\n",
       "      <th>Age</th>\n",
       "      <th>gender</th>\n",
       "      <th>Type of Admission</th>\n",
       "      <th>Severity of Illness</th>\n",
       "      <th>health_conditions</th>\n",
       "      <th>Visitors with Patient</th>\n",
       "      <th>Insurance</th>\n",
       "      <th>Admission_Deposit</th>\n",
       "    </tr>\n",
       "  </thead>\n",
       "  <tbody>\n",
       "    <tr>\n",
       "      <th>0</th>\n",
       "      <td>3</td>\n",
       "      <td>gynecology</td>\n",
       "      <td>F</td>\n",
       "      <td>Dr Olivia</td>\n",
       "      <td>10</td>\n",
       "      <td>2858</td>\n",
       "      <td>21-30</td>\n",
       "      <td>Female</td>\n",
       "      <td>Trauma</td>\n",
       "      <td>Moderate</td>\n",
       "      <td>Other</td>\n",
       "      <td>2</td>\n",
       "      <td>No</td>\n",
       "      <td>4749.640225</td>\n",
       "    </tr>\n",
       "    <tr>\n",
       "      <th>1</th>\n",
       "      <td>2</td>\n",
       "      <td>TB &amp; Chest disease</td>\n",
       "      <td>E</td>\n",
       "      <td>Dr John</td>\n",
       "      <td>4</td>\n",
       "      <td>65657</td>\n",
       "      <td>51-60</td>\n",
       "      <td>Female</td>\n",
       "      <td>Trauma</td>\n",
       "      <td>Moderate</td>\n",
       "      <td>Asthama</td>\n",
       "      <td>2</td>\n",
       "      <td>Yes</td>\n",
       "      <td>4122.261324</td>\n",
       "    </tr>\n",
       "    <tr>\n",
       "      <th>2</th>\n",
       "      <td>2</td>\n",
       "      <td>radiotherapy</td>\n",
       "      <td>E</td>\n",
       "      <td>Dr John</td>\n",
       "      <td>7</td>\n",
       "      <td>45598</td>\n",
       "      <td>51-60</td>\n",
       "      <td>Other</td>\n",
       "      <td>Trauma</td>\n",
       "      <td>Moderate</td>\n",
       "      <td>None</td>\n",
       "      <td>3</td>\n",
       "      <td>No</td>\n",
       "      <td>5459.067882</td>\n",
       "    </tr>\n",
       "    <tr>\n",
       "      <th>3</th>\n",
       "      <td>2</td>\n",
       "      <td>gynecology</td>\n",
       "      <td>F</td>\n",
       "      <td>Dr Olivia</td>\n",
       "      <td>1</td>\n",
       "      <td>31132</td>\n",
       "      <td>21-30</td>\n",
       "      <td>Female</td>\n",
       "      <td>Trauma</td>\n",
       "      <td>Moderate</td>\n",
       "      <td>None</td>\n",
       "      <td>2</td>\n",
       "      <td>Yes</td>\n",
       "      <td>3987.033318</td>\n",
       "    </tr>\n",
       "    <tr>\n",
       "      <th>4</th>\n",
       "      <td>2</td>\n",
       "      <td>anesthesia</td>\n",
       "      <td>A</td>\n",
       "      <td>Dr John</td>\n",
       "      <td>7</td>\n",
       "      <td>125021</td>\n",
       "      <td>51-60</td>\n",
       "      <td>Female</td>\n",
       "      <td>Trauma</td>\n",
       "      <td>Extreme</td>\n",
       "      <td>Diabetes</td>\n",
       "      <td>2</td>\n",
       "      <td>No</td>\n",
       "      <td>4770.789695</td>\n",
       "    </tr>\n",
       "  </tbody>\n",
       "</table>\n",
       "</div>"
      ],
      "text/plain": [
       "   Available Extra Rooms in Hospital          Department Ward_Facility_Code  \\\n",
       "0                                  3          gynecology                  F   \n",
       "1                                  2  TB & Chest disease                  E   \n",
       "2                                  2        radiotherapy                  E   \n",
       "3                                  2          gynecology                  F   \n",
       "4                                  2          anesthesia                  A   \n",
       "\n",
       "  doctor_name  staff_available  patientid    Age  gender Type of Admission  \\\n",
       "0   Dr Olivia               10       2858  21-30  Female            Trauma   \n",
       "1     Dr John                4      65657  51-60  Female            Trauma   \n",
       "2     Dr John                7      45598  51-60   Other            Trauma   \n",
       "3   Dr Olivia                1      31132  21-30  Female            Trauma   \n",
       "4     Dr John                7     125021  51-60  Female            Trauma   \n",
       "\n",
       "  Severity of Illness health_conditions  Visitors with Patient Insurance  \\\n",
       "0            Moderate             Other                      2        No   \n",
       "1            Moderate           Asthama                      2       Yes   \n",
       "2            Moderate              None                      3        No   \n",
       "3            Moderate              None                      2       Yes   \n",
       "4             Extreme          Diabetes                      2        No   \n",
       "\n",
       "   Admission_Deposit  \n",
       "0        4749.640225  \n",
       "1        4122.261324  \n",
       "2        5459.067882  \n",
       "3        3987.033318  \n",
       "4        4770.789695  "
      ]
     },
     "execution_count": 5,
     "metadata": {},
     "output_type": "execute_result"
    }
   ],
   "source": [
    "df_test.head()"
   ]
  },
  {
   "cell_type": "code",
   "execution_count": 6,
   "metadata": {},
   "outputs": [
    {
     "name": "stderr",
     "output_type": "stream",
     "text": [
      "C:\\Users\\DIEZ\\AppData\\Local\\Temp\\ipykernel_12660\\1828360409.py:2: FutureWarning: The default value of numeric_only in DataFrame.corr is deprecated. In a future version, it will default to False. Select only valid columns or specify the value of numeric_only to silence this warning.\n",
      "  corr = df_train.corr()\n"
     ]
    },
    {
     "data": {
      "text/plain": [
       "<AxesSubplot: >"
      ]
     },
     "execution_count": 6,
     "metadata": {},
     "output_type": "execute_result"
    },
    {
     "data": {
      "image/png": "[encoded data removed]",
      "text/plain": [
       "<Figure size 640x480 with 2 Axes>"
      ]
     },
     "metadata": {},
     "output_type": "display_data"
    }
   ],
   "source": [
    "df_train.columns\n",
    "corr = df_train.corr()\n",
    "sns.heatmap(corr, \n",
    "        xticklabels=corr.columns,\n",
    "        yticklabels=corr.columns,\n",
    "        annot=True)"
   ]
  },
  {
   "attachments": {},
   "cell_type": "markdown",
   "metadata": {},
   "source": [
    "## *Columna Target (Objetivo)*"
   ]
  },
  {
   "cell_type": "code",
   "execution_count": 25,
   "metadata": {},
   "outputs": [
    {
     "data": {
      "text/plain": [
       "0    314361\n",
       "1     95639\n",
       "Name: target, dtype: int64"
      ]
     },
     "execution_count": 25,
     "metadata": {},
     "output_type": "execute_result"
    }
   ],
   "source": [
    "df_train['target']= np.where(df_train['Stay (in days)'] >= df_train['Stay (in days)'].mean(), 1, 0)\n",
    "df_train['target'].value_counts()"
   ]
  },
  {
   "cell_type": "code",
   "execution_count": 26,
   "metadata": {},
   "outputs": [],
   "source": [
    "X = df_train[['Available Extra Rooms in Hospital','staff_available','patientid','Visitors with Patient','Admission_Deposit']]\n",
    "y = df_train['target']"
   ]
  },
  {
   "cell_type": "code",
   "execution_count": 27,
   "metadata": {},
   "outputs": [],
   "source": [
    "test = df_test[['Available Extra Rooms in Hospital','staff_available','patientid','Visitors with Patient','Admission_Deposit']]"
   ]
  },
  {
   "attachments": {},
   "cell_type": "markdown",
   "metadata": {},
   "source": [
    "## *Entrenamiento*\n",
    "*Usaremos K_vecinos en nuentro modelo, pero primero lo entrenaremos*"
   ]
  },
  {
   "cell_type": "code",
   "execution_count": 28,
   "metadata": {},
   "outputs": [],
   "source": [
    "from sklearn.model_selection import train_test_split\n",
    "X_train, y_train, x_test, y_test = train_test_split(X, y, test_size = 0.25, random_state = 0)"
   ]
  },
  {
   "cell_type": "code",
   "execution_count": 29,
   "metadata": {},
   "outputs": [],
   "source": [
    "from sklearn.preprocessing import StandardScaler\n",
    "st_sc = StandardScaler()\n",
    "X_train = st_sc.fit_transform(X_train)"
   ]
  },
  {
   "cell_type": "code",
   "execution_count": 30,
   "metadata": {},
   "outputs": [
    {
     "data": {
      "text/html": [
       "<style>#sk-container-id-1 {color: black;background-color: white;}#sk-container-id-1 pre{padding: 0;}#sk-container-id-1 div.sk-toggleable {background-color: white;}#sk-container-id-1 label.sk-toggleable__label {cursor: pointer;display: block;width: 100%;margin-bottom: 0;padding: 0.3em;box-sizing: border-box;text-align: center;}#sk-container-id-1 label.sk-toggleable__label-arrow:before {content: \"▸\";float: left;margin-right: 0.25em;color: #696969;}#sk-container-id-1 label.sk-toggleable__label-arrow:hover:before {color: black;}#sk-container-id-1 div.sk-estimator:hover label.sk-toggleable__label-arrow:before {color: black;}#sk-container-id-1 div.sk-toggleable__content {max-height: 0;max-width: 0;overflow: hidden;text-align: left;background-color: #f0f8ff;}#sk-container-id-1 div.sk-toggleable__content pre {margin: 0.2em;color: black;border-radius: 0.25em;background-color: #f0f8ff;}#sk-container-id-1 input.sk-toggleable__control:checked~div.sk-toggleable__content {max-height: 200px;max-width: 100%;overflow: auto;}#sk-container-id-1 input.sk-toggleable__control:checked~label.sk-toggleable__label-arrow:before {content: \"▾\";}#sk-container-id-1 div.sk-estimator input.sk-toggleable__control:checked~label.sk-toggleable__label {background-color: #d4ebff;}#sk-container-id-1 div.sk-label input.sk-toggleable__control:checked~label.sk-toggleable__label {background-color: #d4ebff;}#sk-container-id-1 input.sk-hidden--visually {border: 0;clip: rect(1px 1px 1px 1px);clip: rect(1px, 1px, 1px, 1px);height: 1px;margin: -1px;overflow: hidden;padding: 0;position: absolute;width: 1px;}#sk-container-id-1 div.sk-estimator {font-family: monospace;background-color: #f0f8ff;border: 1px dotted black;border-radius: 0.25em;box-sizing: border-box;margin-bottom: 0.5em;}#sk-container-id-1 div.sk-estimator:hover {background-color: #d4ebff;}#sk-container-id-1 div.sk-parallel-item::after {content: \"\";width: 100%;border-bottom: 1px solid gray;flex-grow: 1;}#sk-container-id-1 div.sk-label:hover label.sk-toggleable__label {background-color: #d4ebff;}#sk-container-id-1 div.sk-serial::before {content: \"\";position: absolute;border-left: 1px solid gray;box-sizing: border-box;top: 0;bottom: 0;left: 50%;z-index: 0;}#sk-container-id-1 div.sk-serial {display: flex;flex-direction: column;align-items: center;background-color: white;padding-right: 0.2em;padding-left: 0.2em;position: relative;}#sk-container-id-1 div.sk-item {position: relative;z-index: 1;}#sk-container-id-1 div.sk-parallel {display: flex;align-items: stretch;justify-content: center;background-color: white;position: relative;}#sk-container-id-1 div.sk-item::before, #sk-container-id-1 div.sk-parallel-item::before {content: \"\";position: absolute;border-left: 1px solid gray;box-sizing: border-box;top: 0;bottom: 0;left: 50%;z-index: -1;}#sk-container-id-1 div.sk-parallel-item {display: flex;flex-direction: column;z-index: 1;position: relative;background-color: white;}#sk-container-id-1 div.sk-parallel-item:first-child::after {align-self: flex-end;width: 50%;}#sk-container-id-1 div.sk-parallel-item:last-child::after {align-self: flex-start;width: 50%;}#sk-container-id-1 div.sk-parallel-item:only-child::after {width: 0;}#sk-container-id-1 div.sk-dashed-wrapped {border: 1px dashed gray;margin: 0 0.4em 0.5em 0.4em;box-sizing: border-box;padding-bottom: 0.4em;background-color: white;}#sk-container-id-1 div.sk-label label {font-family: monospace;font-weight: bold;display: inline-block;line-height: 1.2em;}#sk-container-id-1 div.sk-label-container {text-align: center;}#sk-container-id-1 div.sk-container {/* jupyter's `normalize.less` sets `[hidden] { display: none; }` but bootstrap.min.css set `[hidden] { display: none !important; }` so we also need the `!important` here to be able to override the default hidden behavior on the sphinx rendered scikit-learn.org. See: https://github.com/scikit-learn/scikit-learn/issues/21755 */display: inline-block !important;position: relative;}#sk-container-id-1 div.sk-text-repr-fallback {display: none;}</style><div id=\"sk-container-id-1\" class=\"sk-top-container\"><div class=\"sk-text-repr-fallback\"><pre>KNeighborsClassifier()</pre><b>In a Jupyter environment, please rerun this cell to show the HTML representation or trust the notebook. <br />On GitHub, the HTML representation is unable to render, please try loading this page with nbviewer.org.</b></div><div class=\"sk-container\" hidden><div class=\"sk-item\"><div class=\"sk-estimator sk-toggleable\"><input class=\"sk-toggleable__control sk-hidden--visually\" id=\"sk-estimator-id-1\" type=\"checkbox\" checked><label for=\"sk-estimator-id-1\" class=\"sk-toggleable__label sk-toggleable__label-arrow\">KNeighborsClassifier</label><div class=\"sk-toggleable__content\"><pre>KNeighborsClassifier()</pre></div></div></div></div></div>"
      ],
      "text/plain": [
       "KNeighborsClassifier()"
      ]
     },
     "execution_count": 30,
     "metadata": {},
     "output_type": "execute_result"
    }
   ],
   "source": [
    "from sklearn.neighbors import KNeighborsClassifier\n",
    "clf = KNeighborsClassifier()\n",
    "clf.fit(X.values,y.values) # Entrenamos el modelo."
   ]
  },
  {
   "attachments": {},
   "cell_type": "markdown",
   "metadata": {},
   "source": [
    "## *Predecimos*"
   ]
  },
  {
   "cell_type": "code",
   "execution_count": 31,
   "metadata": {},
   "outputs": [],
   "source": [
    "y_pred = clf.predict(X.values)"
   ]
  },
  {
   "cell_type": "code",
   "execution_count": 32,
   "metadata": {},
   "outputs": [
    {
     "data": {
      "text/plain": [
       "410000"
      ]
     },
     "execution_count": 32,
     "metadata": {},
     "output_type": "execute_result"
    }
   ],
   "source": [
    "y_pred.shape[0]"
   ]
  },
  {
   "cell_type": "code",
   "execution_count": 33,
   "metadata": {},
   "outputs": [],
   "source": [
    "test_pred = clf.predict(test.values)"
   ]
  },
  {
   "cell_type": "code",
   "execution_count": 34,
   "metadata": {},
   "outputs": [
    {
     "data": {
      "text/plain": [
       "90000"
      ]
     },
     "execution_count": 34,
     "metadata": {},
     "output_type": "execute_result"
    }
   ],
   "source": [
    "test_pred.shape[0]"
   ]
  },
  {
   "cell_type": "code",
   "execution_count": 35,
   "metadata": {},
   "outputs": [],
   "source": [
    "test_pred = pd.DataFrame(test_pred)\n",
    "test_pred.rename({0 : 'pred'}, axis  = 1, inplace = True)"
   ]
  },
  {
   "cell_type": "code",
   "execution_count": 38,
   "metadata": {},
   "outputs": [
    {
     "data": {
      "text/html": [
       "<div>\n",
       "<style scoped>\n",
       "    .dataframe tbody tr th:only-of-type {\n",
       "        vertical-align: middle;\n",
       "    }\n",
       "\n",
       "    .dataframe tbody tr th {\n",
       "        vertical-align: top;\n",
       "    }\n",
       "\n",
       "    .dataframe thead th {\n",
       "        text-align: right;\n",
       "    }\n",
       "</style>\n",
       "<table border=\"1\" class=\"dataframe\">\n",
       "  <thead>\n",
       "    <tr style=\"text-align: right;\">\n",
       "      <th></th>\n",
       "      <th>pred</th>\n",
       "    </tr>\n",
       "  </thead>\n",
       "  <tbody>\n",
       "    <tr>\n",
       "      <th>0</th>\n",
       "      <td>0</td>\n",
       "    </tr>\n",
       "    <tr>\n",
       "      <th>1</th>\n",
       "      <td>0</td>\n",
       "    </tr>\n",
       "    <tr>\n",
       "      <th>2</th>\n",
       "      <td>0</td>\n",
       "    </tr>\n",
       "    <tr>\n",
       "      <th>3</th>\n",
       "      <td>0</td>\n",
       "    </tr>\n",
       "    <tr>\n",
       "      <th>4</th>\n",
       "      <td>0</td>\n",
       "    </tr>\n",
       "  </tbody>\n",
       "</table>\n",
       "</div>"
      ],
      "text/plain": [
       "   pred\n",
       "0     0\n",
       "1     0\n",
       "2     0\n",
       "3     0\n",
       "4     0"
      ]
     },
     "execution_count": 38,
     "metadata": {},
     "output_type": "execute_result"
    }
   ],
   "source": [
    "test_pred.head()"
   ]
  },
  {
   "cell_type": "code",
   "execution_count": 39,
   "metadata": {},
   "outputs": [],
   "source": [
    "from sklearn.metrics import accuracy_score, recall_score, f1_score, precision_score"
   ]
  },
  {
   "cell_type": "code",
   "execution_count": 44,
   "metadata": {},
   "outputs": [],
   "source": [
    "def metricas_precision(valor1, valor2):\n",
    "    \"\"\" Recibe como valores y e y_pred\"\"\"\n",
    "    acurracy = accuracy_score(y,y_pred)\n",
    "    recall = recall_score(y,y_pred)\n",
    "    f1 = f1_score(y,y_pred)\n",
    "    precision = precision_score(y,y_pred)\n",
    "    return acurracy, recall, f1, precision"
   ]
  },
  {
   "cell_type": "code",
   "execution_count": 46,
   "metadata": {},
   "outputs": [
    {
     "data": {
      "text/plain": [
       "(0.7902853658536585,\n",
       " 0.24060268300588672,\n",
       " 0.34863830915495625,\n",
       " 0.6327613705109167)"
      ]
     },
     "execution_count": 46,
     "metadata": {},
     "output_type": "execute_result"
    }
   ],
   "source": [
    "metricas_precision(X, test_pred)"
   ]
  },
  {
   "attachments": {},
   "cell_type": "markdown",
   "metadata": {},
   "source": [
    "## *Gráficamos la matriz de confusión*"
   ]
  },
  {
   "cell_type": "code",
   "execution_count": 47,
   "metadata": {},
   "outputs": [],
   "source": [
    "from sklearn.metrics import confusion_matrix, classification_report"
   ]
  },
  {
   "cell_type": "code",
   "execution_count": 48,
   "metadata": {},
   "outputs": [
    {
     "data": {
      "image/png": "[encoded data removed]",
      "text/plain": [
       "<Figure size 1200x800 with 1 Axes>"
      ]
     },
     "metadata": {},
     "output_type": "display_data"
    }
   ],
   "source": [
    "cm = confusion_matrix(y, y_pred)\n",
    "\n",
    "fig, ax = plt.subplots(figsize=(12,8))\n",
    "ax.matshow(cm)\n",
    "plt.title('Matriz de Confusión', fontsize=20)\n",
    "plt.ylabel('Etiqueta Verdadera', fontsize=15)\n",
    "plt.xlabel('Etiqueta Predicha', fontsize=15)\n",
    "for (i, j), z in np.ndenumerate(cm):\n",
    "    ax.text(j, i, '{:0.1f}'.format(z), ha='center', va='center')"
   ]
  },
  {
   "attachments": {},
   "cell_type": "markdown",
   "metadata": {},
   "source": [
    "## *Convertimos en CSV nuestra predicción*"
   ]
  },
  {
   "cell_type": "code",
   "execution_count": 53,
   "metadata": {},
   "outputs": [],
   "source": [
    "carga = r'C:\\Users\\DIEZ\\Desktop\\MySpace\\Practicas\\Datathon-main\\Luismadrid77.csv'\n",
    "test_pred.to_csv(carga, index = False)"
   ]
  }
 ],
 "metadata": {
  "kernelspec": {
   "display_name": "Python 3",
   "language": "python",
   "name": "python3"
  },
  "language_info": {
   "codemirror_mode": {
    "name": "ipython",
    "version": 3
   },
   "file_extension": ".py",
   "mimetype": "text/x-python",
   "name": "python",
   "nbconvert_exporter": "python",
   "pygments_lexer": "ipython3",
   "version": "3.10.9"
  },
  "orig_nbformat": 4,
  "vscode": {
   "interpreter": {
    "hash": "a35ae40c55c5510819bd1bcae5ddbd9a24d04b383f4f759ada22073d3f86254a"
   }
  }
 },
 "nbformat": 4,
 "nbformat_minor": 2
}
